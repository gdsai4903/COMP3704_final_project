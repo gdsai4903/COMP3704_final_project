{
  "nbformat": 4,
  "nbformat_minor": 0,
  "metadata": {
    "colab": {
      "provenance": []
    },
    "kernelspec": {
      "name": "python3",
      "display_name": "Python 3"
    },
    "language_info": {
      "name": "python"
    }
  },
  "cells": [
    {
      "cell_type": "code",
      "source": [
        "import tensorflow as tf\n",
        "import matplotlib.pyplot as plt\n",
        "import os\n",
        "import rarfile\n",
        "from tensorflow.keras.preprocessing.image import ImageDataGenerator\n",
        "from tensorflow.keras.applications import VGG16, ResNet50\n",
        "from tensorflow.keras.layers import Dense, Dropout, GlobalAveragePooling2D, BatchNormalization\n",
        "from tensorflow.keras.models import Model\n",
        "from tensorflow.keras.optimizers import Adam\n",
        "from tensorflow.keras.regularizers import l2\n",
        "from tensorflow.keras.callbacks import EarlyStopping"
      ],
      "metadata": {
        "id": "DRbxi8ihn33v"
      },
      "execution_count": 33,
      "outputs": []
    },
    {
      "cell_type": "markdown",
      "source": [
        "# 1. Data"
      ],
      "metadata": {
        "id": "nXX_DtLztQ-u"
      }
    },
    {
      "cell_type": "code",
      "source": [
        "# Define paths\n",
        "rar_path = '/content/RANGE.rar'  # Update this path\n",
        "extraction_path = 'extracted_data'\n",
        "\n",
        "# Open and extract the RAR file\n",
        "with rarfile.RarFile(rar_path) as images:\n",
        "   images.extractall(extraction_path)\n",
        "\n",
        "print(\"Extraction completed.\")"
      ],
      "metadata": {
        "colab": {
          "base_uri": "https://localhost:8080/"
        },
        "id": "zQ6AwinQpAL3",
        "outputId": "fcde68d7-9189-47bb-86e1-5dffc91f3e96"
      },
      "execution_count": 9,
      "outputs": [
        {
          "output_type": "stream",
          "name": "stdout",
          "text": [
            "Extraction completed.\n"
          ]
        }
      ]
    },
    {
      "cell_type": "code",
      "source": [
        "# List contents of the extraction path to verify structure\n",
        "extracted_content = os.listdir('extracted_data')\n",
        "print(\"Extracted folder structure:\", extracted_content)"
      ],
      "metadata": {
        "colab": {
          "base_uri": "https://localhost:8080/"
        },
        "id": "gwMe2QKasXv8",
        "outputId": "7c3049ef-4e86-4582-916c-4c9db215abc7"
      },
      "execution_count": 11,
      "outputs": [
        {
          "output_type": "stream",
          "name": "stdout",
          "text": [
            "Extracted folder structure: ['RANGE']\n"
          ]
        }
      ]
    },
    {
      "cell_type": "markdown",
      "source": [
        "# 2.Set Image Parameters and Data Generators"
      ],
      "metadata": {
        "id": "6sCpdNR0tKoV"
      }
    },
    {
      "cell_type": "code",
      "source": [
        "# Image parameters\n",
        "IMG_HEIGHT = 224\n",
        "IMG_WIDTH = 224\n",
        "BATCH_SIZE = 32\n",
        "EPOCHS = 10  # Adjust based on your compute power and dataset size\n",
        "\n",
        "# Data augmentation and scaling\n",
        "train_datagen = ImageDataGenerator(\n",
        "    rescale=1.0/255.0,\n",
        "    rotation_range=20,\n",
        "    width_shift_range=0.2,\n",
        "    height_shift_range=0.2,\n",
        "    brightness_range=[0.5, 1.5],\n",
        "    zoom_range=0.2,\n",
        "    horizontal_flip=True,\n",
        "    fill_mode='nearest',\n",
        "    validation_split=0.2  # Reserve 20% for validation\n",
        ")\n",
        "\n",
        "# Load the extracted training and validation data\n",
        "train_data = train_datagen.flow_from_directory(\n",
        "    'extracted_data',  # Update this if the folder structure is different\n",
        "    target_size=(IMG_HEIGHT, IMG_WIDTH),\n",
        "    batch_size=BATCH_SIZE,\n",
        "    class_mode='categorical',\n",
        "    subset='training'\n",
        ")\n",
        "\n",
        "validation_data = train_datagen.flow_from_directory(\n",
        "    'extracted_data',\n",
        "    target_size=(IMG_HEIGHT, IMG_WIDTH),\n",
        "    batch_size=BATCH_SIZE,\n",
        "    class_mode='categorical',\n",
        "    subset='validation'\n",
        ")"
      ],
      "metadata": {
        "colab": {
          "base_uri": "https://localhost:8080/"
        },
        "id": "2Koao-JCsEn_",
        "outputId": "4addbb29-6201-4707-82bd-6a1a927204d7"
      },
      "execution_count": 13,
      "outputs": [
        {
          "output_type": "stream",
          "name": "stdout",
          "text": [
            "Found 130 images belonging to 1 classes.\n",
            "Found 32 images belonging to 1 classes.\n"
          ]
        }
      ]
    },
    {
      "cell_type": "markdown",
      "source": [
        "# 3. Define the VGG16 Model with Custom Layers"
      ],
      "metadata": {
        "id": "SXaF8pJdtXGx"
      }
    },
    {
      "cell_type": "code",
      "source": [
        "# Load VGG16 as base model\n",
        "vgg16_base = VGG16(weights='imagenet', include_top=False, input_shape=(224, 224, 3))\n",
        "vgg16_base.trainable = False  # Freeze base layers\n",
        "\n",
        "# Add custom layers for VGG16\n",
        "x = vgg16_base.output\n",
        "x = GlobalAveragePooling2D()(x)\n",
        "x = Dense(512, activation='relu', kernel_regularizer=l2(0.05))(x)\n",
        "x = Dropout(0.7)(x)\n",
        "x = BatchNormalization()(x)\n",
        "x = Dense(256, activation='relu', kernel_regularizer=l2(0.05))(x)\n",
        "x = Dropout(0.7)(x)\n",
        "vgg16_predictions = Dense(train_data.num_classes, activation='softmax')(x)\n",
        "\n",
        "# Compile the VGG16 model\n",
        "vgg16_model = Model(inputs=vgg16_base.input, outputs=vgg16_predictions)\n",
        "vgg16_model.compile(optimizer=Adam(learning_rate=0.0001), loss='categorical_crossentropy', metrics=['accuracy'])\n"
      ],
      "metadata": {
        "id": "O9ZkE7SttbY_"
      },
      "execution_count": 40,
      "outputs": []
    },
    {
      "cell_type": "code",
      "source": [
        "# Set up Early Stopping\n",
        "early_stopping = EarlyStopping(monitor='val_loss', patience=5, restore_best_weights=True)"
      ],
      "metadata": {
        "id": "JC5iqJC60QTB"
      },
      "execution_count": 41,
      "outputs": []
    },
    {
      "cell_type": "markdown",
      "source": [
        "# 4. Define the ResNet50 Model with Custom Layers"
      ],
      "metadata": {
        "id": "RCiRP3shthrS"
      }
    },
    {
      "cell_type": "code",
      "source": [
        "# Load ResNet50 with pretrained weights\n",
        "resnet50_base = ResNet50(weights='imagenet', include_top=False, input_shape=(224, 224, 3))\n",
        "resnet50_base.trainable = False  # Freeze base layers\n",
        "\n",
        "# Unfreeze the last few layers for fine-tuning\n",
        "for layer in resnet50_base.layers[-3:]:  # Unfreeze the last 10 layers\n",
        "    layer.trainable = True\n",
        "\n",
        "# Add custom layers for ResNet50\n",
        "y = resnet50_base.output\n",
        "y = GlobalAveragePooling2D()(y)\n",
        "y = Dense(512, activation='relu', kernel_regularizer=l2(0.05))(y)\n",
        "y = BatchNormalization()(y)\n",
        "y = Dropout(0.7)(y)\n",
        "y = Dense(256, activation='relu', kernel_regularizer=l2(0.05))(y)\n",
        "y = BatchNormalization()(y)\n",
        "y = Dropout(0.7)(y)\n",
        "resnet50_predictions = Dense(train_data.num_classes, activation='softmax')(y)\n",
        "\n",
        "# Compile the ResNet50 model\n",
        "resnet50_model = Model(inputs=resnet50_base.input, outputs=resnet50_predictions)\n",
        "resnet50_model.compile(optimizer=Adam(learning_rate=0.0001), loss='categorical_crossentropy', metrics=['accuracy'])"
      ],
      "metadata": {
        "id": "ADhsmv5otk9u"
      },
      "execution_count": 42,
      "outputs": []
    },
    {
      "cell_type": "code",
      "source": [
        "# Set up Early Stopping to prevent overfitting\n",
        "early_stopping = EarlyStopping(monitor='val_loss', patience=5, restore_best_weights=True)"
      ],
      "metadata": {
        "id": "2EpVp0Yj7qKu"
      },
      "execution_count": 43,
      "outputs": []
    },
    {
      "cell_type": "markdown",
      "source": [
        "# 5.Train Both Models and Track Metrics"
      ],
      "metadata": {
        "id": "0QaNOqNRtudL"
      }
    },
    {
      "cell_type": "code",
      "source": [
        "# Train VGG16 Model\n",
        "print(\"Training VGG16 model:\")\n",
        "vgg16_history = vgg16_model.fit(\n",
        "    train_data,\n",
        "    validation_data=validation_data,\n",
        "    epochs=50,\n",
        "    callbacks=[early_stopping]\n",
        ")\n",
        "print(\"VGG16 model training completed.\")"
      ],
      "metadata": {
        "colab": {
          "base_uri": "https://localhost:8080/"
        },
        "id": "urCsaWkjtxuq",
        "outputId": "daf60b57-e44e-44de-99ee-1f9ffcf2b8e0"
      },
      "execution_count": 44,
      "outputs": [
        {
          "output_type": "stream",
          "name": "stdout",
          "text": [
            "Training VGG16 model:\n",
            "Epoch 1/50\n",
            "\u001b[1m5/5\u001b[0m \u001b[32m━━━━━━━━━━━━━━━━━━━━\u001b[0m\u001b[37m\u001b[0m \u001b[1m109s\u001b[0m 26s/step - accuracy: 1.0000 - loss: 42.4729 - val_accuracy: 1.0000 - val_loss: 41.9305\n",
            "Epoch 2/50\n",
            "\u001b[1m5/5\u001b[0m \u001b[32m━━━━━━━━━━━━━━━━━━━━\u001b[0m\u001b[37m\u001b[0m \u001b[1m137s\u001b[0m 20s/step - accuracy: 1.0000 - loss: 41.7727 - val_accuracy: 1.0000 - val_loss: 41.1545\n",
            "Epoch 3/50\n",
            "\u001b[1m5/5\u001b[0m \u001b[32m━━━━━━━━━━━━━━━━━━━━\u001b[0m\u001b[37m\u001b[0m \u001b[1m143s\u001b[0m 25s/step - accuracy: 1.0000 - loss: 40.9171 - val_accuracy: 1.0000 - val_loss: 40.3898\n",
            "Epoch 4/50\n",
            "\u001b[1m5/5\u001b[0m \u001b[32m━━━━━━━━━━━━━━━━━━━━\u001b[0m\u001b[37m\u001b[0m \u001b[1m102s\u001b[0m 20s/step - accuracy: 1.0000 - loss: 40.2366 - val_accuracy: 1.0000 - val_loss: 39.6368\n",
            "Epoch 5/50\n",
            "\u001b[1m5/5\u001b[0m \u001b[32m━━━━━━━━━━━━━━━━━━━━\u001b[0m\u001b[37m\u001b[0m \u001b[1m143s\u001b[0m 20s/step - accuracy: 1.0000 - loss: 39.4784 - val_accuracy: 1.0000 - val_loss: 38.8960\n",
            "Epoch 6/50\n",
            "\u001b[1m5/5\u001b[0m \u001b[32m━━━━━━━━━━━━━━━━━━━━\u001b[0m\u001b[37m\u001b[0m \u001b[1m162s\u001b[0m 30s/step - accuracy: 1.0000 - loss: 38.6697 - val_accuracy: 1.0000 - val_loss: 38.1674\n",
            "Epoch 7/50\n",
            "\u001b[1m5/5\u001b[0m \u001b[32m━━━━━━━━━━━━━━━━━━━━\u001b[0m\u001b[37m\u001b[0m \u001b[1m102s\u001b[0m 20s/step - accuracy: 1.0000 - loss: 38.0142 - val_accuracy: 1.0000 - val_loss: 37.4513\n",
            "Epoch 8/50\n",
            "\u001b[1m5/5\u001b[0m \u001b[32m━━━━━━━━━━━━━━━━━━━━\u001b[0m\u001b[37m\u001b[0m \u001b[1m103s\u001b[0m 20s/step - accuracy: 1.0000 - loss: 37.2824 - val_accuracy: 1.0000 - val_loss: 36.7476\n",
            "Epoch 9/50\n",
            "\u001b[1m5/5\u001b[0m \u001b[32m━━━━━━━━━━━━━━━━━━━━\u001b[0m\u001b[37m\u001b[0m \u001b[1m102s\u001b[0m 20s/step - accuracy: 1.0000 - loss: 36.5997 - val_accuracy: 1.0000 - val_loss: 36.0562\n",
            "Epoch 10/50\n",
            "\u001b[1m5/5\u001b[0m \u001b[32m━━━━━━━━━━━━━━━━━━━━\u001b[0m\u001b[37m\u001b[0m \u001b[1m141s\u001b[0m 20s/step - accuracy: 1.0000 - loss: 35.9109 - val_accuracy: 1.0000 - val_loss: 35.3771\n",
            "Epoch 11/50\n",
            "\u001b[1m5/5\u001b[0m \u001b[32m━━━━━━━━━━━━━━━━━━━━\u001b[0m\u001b[37m\u001b[0m \u001b[1m101s\u001b[0m 20s/step - accuracy: 1.0000 - loss: 35.2344 - val_accuracy: 1.0000 - val_loss: 34.7100\n",
            "Epoch 12/50\n",
            "\u001b[1m5/5\u001b[0m \u001b[32m━━━━━━━━━━━━━━━━━━━━\u001b[0m\u001b[37m\u001b[0m \u001b[1m101s\u001b[0m 20s/step - accuracy: 1.0000 - loss: 34.5528 - val_accuracy: 1.0000 - val_loss: 34.0549\n",
            "Epoch 13/50\n",
            "\u001b[1m5/5\u001b[0m \u001b[32m━━━━━━━━━━━━━━━━━━━━\u001b[0m\u001b[37m\u001b[0m \u001b[1m143s\u001b[0m 25s/step - accuracy: 1.0000 - loss: 33.8549 - val_accuracy: 1.0000 - val_loss: 33.4114\n",
            "Epoch 14/50\n",
            "\u001b[1m5/5\u001b[0m \u001b[32m━━━━━━━━━━━━━━━━━━━━\u001b[0m\u001b[37m\u001b[0m \u001b[1m102s\u001b[0m 20s/step - accuracy: 1.0000 - loss: 33.2761 - val_accuracy: 1.0000 - val_loss: 32.7793\n",
            "Epoch 15/50\n",
            "\u001b[1m5/5\u001b[0m \u001b[32m━━━━━━━━━━━━━━━━━━━━\u001b[0m\u001b[37m\u001b[0m \u001b[1m142s\u001b[0m 20s/step - accuracy: 1.0000 - loss: 32.6465 - val_accuracy: 1.0000 - val_loss: 32.1586\n",
            "Epoch 16/50\n",
            "\u001b[1m5/5\u001b[0m \u001b[32m━━━━━━━━━━━━━━━━━━━━\u001b[0m\u001b[37m\u001b[0m \u001b[1m143s\u001b[0m 20s/step - accuracy: 1.0000 - loss: 32.0281 - val_accuracy: 1.0000 - val_loss: 31.5488\n",
            "Epoch 17/50\n",
            "\u001b[1m5/5\u001b[0m \u001b[32m━━━━━━━━━━━━━━━━━━━━\u001b[0m\u001b[37m\u001b[0m \u001b[1m141s\u001b[0m 20s/step - accuracy: 1.0000 - loss: 31.4051 - val_accuracy: 1.0000 - val_loss: 30.9500\n",
            "Epoch 18/50\n",
            "\u001b[1m5/5\u001b[0m \u001b[32m━━━━━━━━━━━━━━━━━━━━\u001b[0m\u001b[37m\u001b[0m \u001b[1m142s\u001b[0m 20s/step - accuracy: 1.0000 - loss: 30.8302 - val_accuracy: 1.0000 - val_loss: 30.3618\n",
            "Epoch 19/50\n",
            "\u001b[1m5/5\u001b[0m \u001b[32m━━━━━━━━━━━━━━━━━━━━\u001b[0m\u001b[37m\u001b[0m \u001b[1m142s\u001b[0m 20s/step - accuracy: 1.0000 - loss: 30.2381 - val_accuracy: 1.0000 - val_loss: 29.7840\n",
            "Epoch 20/50\n",
            "\u001b[1m5/5\u001b[0m \u001b[32m━━━━━━━━━━━━━━━━━━━━\u001b[0m\u001b[37m\u001b[0m \u001b[1m143s\u001b[0m 20s/step - accuracy: 1.0000 - loss: 29.6684 - val_accuracy: 1.0000 - val_loss: 29.2164\n",
            "Epoch 21/50\n",
            "\u001b[1m5/5\u001b[0m \u001b[32m━━━━━━━━━━━━━━━━━━━━\u001b[0m\u001b[37m\u001b[0m \u001b[1m141s\u001b[0m 20s/step - accuracy: 1.0000 - loss: 29.0972 - val_accuracy: 1.0000 - val_loss: 28.6590\n",
            "Epoch 22/50\n",
            "\u001b[1m5/5\u001b[0m \u001b[32m━━━━━━━━━━━━━━━━━━━━\u001b[0m\u001b[37m\u001b[0m \u001b[1m142s\u001b[0m 25s/step - accuracy: 1.0000 - loss: 28.4889 - val_accuracy: 1.0000 - val_loss: 28.1114\n",
            "Epoch 23/50\n",
            "\u001b[1m5/5\u001b[0m \u001b[32m━━━━━━━━━━━━━━━━━━━━\u001b[0m\u001b[37m\u001b[0m \u001b[1m143s\u001b[0m 25s/step - accuracy: 1.0000 - loss: 27.9443 - val_accuracy: 1.0000 - val_loss: 27.5735\n",
            "Epoch 24/50\n",
            "\u001b[1m5/5\u001b[0m \u001b[32m━━━━━━━━━━━━━━━━━━━━\u001b[0m\u001b[37m\u001b[0m \u001b[1m102s\u001b[0m 20s/step - accuracy: 1.0000 - loss: 27.4660 - val_accuracy: 1.0000 - val_loss: 27.0452\n",
            "Epoch 25/50\n",
            "\u001b[1m5/5\u001b[0m \u001b[32m━━━━━━━━━━━━━━━━━━━━\u001b[0m\u001b[37m\u001b[0m \u001b[1m142s\u001b[0m 20s/step - accuracy: 1.0000 - loss: 26.9395 - val_accuracy: 1.0000 - val_loss: 26.5262\n",
            "Epoch 26/50\n",
            "\u001b[1m5/5\u001b[0m \u001b[32m━━━━━━━━━━━━━━━━━━━━\u001b[0m\u001b[37m\u001b[0m \u001b[1m102s\u001b[0m 20s/step - accuracy: 1.0000 - loss: 26.4038 - val_accuracy: 1.0000 - val_loss: 26.0164\n",
            "Epoch 27/50\n",
            "\u001b[1m5/5\u001b[0m \u001b[32m━━━━━━━━━━━━━━━━━━━━\u001b[0m\u001b[37m\u001b[0m \u001b[1m122s\u001b[0m 25s/step - accuracy: 1.0000 - loss: 25.9144 - val_accuracy: 1.0000 - val_loss: 25.5156\n",
            "Epoch 28/50\n",
            "\u001b[1m5/5\u001b[0m \u001b[32m━━━━━━━━━━━━━━━━━━━━\u001b[0m\u001b[37m\u001b[0m \u001b[1m122s\u001b[0m 20s/step - accuracy: 1.0000 - loss: 25.3976 - val_accuracy: 1.0000 - val_loss: 25.0237\n",
            "Epoch 29/50\n",
            "\u001b[1m5/5\u001b[0m \u001b[32m━━━━━━━━━━━━━━━━━━━━\u001b[0m\u001b[37m\u001b[0m \u001b[1m142s\u001b[0m 25s/step - accuracy: 1.0000 - loss: 24.8736 - val_accuracy: 1.0000 - val_loss: 24.5406\n",
            "Epoch 30/50\n",
            "\u001b[1m5/5\u001b[0m \u001b[32m━━━━━━━━━━━━━━━━━━━━\u001b[0m\u001b[37m\u001b[0m \u001b[1m122s\u001b[0m 25s/step - accuracy: 1.0000 - loss: 24.4390 - val_accuracy: 1.0000 - val_loss: 24.0659\n",
            "Epoch 31/50\n",
            "\u001b[1m5/5\u001b[0m \u001b[32m━━━━━━━━━━━━━━━━━━━━\u001b[0m\u001b[37m\u001b[0m \u001b[1m102s\u001b[0m 20s/step - accuracy: 1.0000 - loss: 23.9540 - val_accuracy: 1.0000 - val_loss: 23.5998\n",
            "Epoch 32/50\n",
            "\u001b[1m5/5\u001b[0m \u001b[32m━━━━━━━━━━━━━━━━━━━━\u001b[0m\u001b[37m\u001b[0m \u001b[1m102s\u001b[0m 25s/step - accuracy: 1.0000 - loss: 23.4575 - val_accuracy: 1.0000 - val_loss: 23.1418\n",
            "Epoch 33/50\n",
            "\u001b[1m5/5\u001b[0m \u001b[32m━━━━━━━━━━━━━━━━━━━━\u001b[0m\u001b[37m\u001b[0m \u001b[1m141s\u001b[0m 25s/step - accuracy: 1.0000 - loss: 23.0021 - val_accuracy: 1.0000 - val_loss: 22.6920\n",
            "Epoch 34/50\n",
            "\u001b[1m5/5\u001b[0m \u001b[32m━━━━━━━━━━━━━━━━━━━━\u001b[0m\u001b[37m\u001b[0m \u001b[1m142s\u001b[0m 20s/step - accuracy: 1.0000 - loss: 22.5860 - val_accuracy: 1.0000 - val_loss: 22.2503\n",
            "Epoch 35/50\n",
            "\u001b[1m5/5\u001b[0m \u001b[32m━━━━━━━━━━━━━━━━━━━━\u001b[0m\u001b[37m\u001b[0m \u001b[1m162s\u001b[0m 25s/step - accuracy: 1.0000 - loss: 22.1461 - val_accuracy: 1.0000 - val_loss: 21.8163\n",
            "Epoch 36/50\n",
            "\u001b[1m5/5\u001b[0m \u001b[32m━━━━━━━━━━━━━━━━━━━━\u001b[0m\u001b[37m\u001b[0m \u001b[1m121s\u001b[0m 20s/step - accuracy: 1.0000 - loss: 21.7140 - val_accuracy: 1.0000 - val_loss: 21.3901\n",
            "Epoch 37/50\n",
            "\u001b[1m5/5\u001b[0m \u001b[32m━━━━━━━━━━━━━━━━━━━━\u001b[0m\u001b[37m\u001b[0m \u001b[1m101s\u001b[0m 25s/step - accuracy: 1.0000 - loss: 21.2600 - val_accuracy: 1.0000 - val_loss: 20.9715\n",
            "Epoch 38/50\n",
            "\u001b[1m5/5\u001b[0m \u001b[32m━━━━━━━━━━━━━━━━━━━━\u001b[0m\u001b[37m\u001b[0m \u001b[1m101s\u001b[0m 25s/step - accuracy: 1.0000 - loss: 20.8437 - val_accuracy: 1.0000 - val_loss: 20.5603\n",
            "Epoch 39/50\n",
            "\u001b[1m5/5\u001b[0m \u001b[32m━━━━━━━━━━━━━━━━━━━━\u001b[0m\u001b[37m\u001b[0m \u001b[1m142s\u001b[0m 20s/step - accuracy: 1.0000 - loss: 20.4781 - val_accuracy: 1.0000 - val_loss: 20.1565\n",
            "Epoch 40/50\n",
            "\u001b[1m5/5\u001b[0m \u001b[32m━━━━━━━━━━━━━━━━━━━━\u001b[0m\u001b[37m\u001b[0m \u001b[1m101s\u001b[0m 25s/step - accuracy: 1.0000 - loss: 20.0333 - val_accuracy: 1.0000 - val_loss: 19.7599\n",
            "Epoch 41/50\n",
            "\u001b[1m5/5\u001b[0m \u001b[32m━━━━━━━━━━━━━━━━━━━━\u001b[0m\u001b[37m\u001b[0m \u001b[1m142s\u001b[0m 20s/step - accuracy: 1.0000 - loss: 19.6806 - val_accuracy: 1.0000 - val_loss: 19.3703\n",
            "Epoch 42/50\n",
            "\u001b[1m5/5\u001b[0m \u001b[32m━━━━━━━━━━━━━━━━━━━━\u001b[0m\u001b[37m\u001b[0m \u001b[1m142s\u001b[0m 20s/step - accuracy: 1.0000 - loss: 19.2925 - val_accuracy: 1.0000 - val_loss: 18.9878\n",
            "Epoch 43/50\n",
            "\u001b[1m5/5\u001b[0m \u001b[32m━━━━━━━━━━━━━━━━━━━━\u001b[0m\u001b[37m\u001b[0m \u001b[1m144s\u001b[0m 20s/step - accuracy: 1.0000 - loss: 18.9074 - val_accuracy: 1.0000 - val_loss: 18.6121\n",
            "Epoch 44/50\n",
            "\u001b[1m5/5\u001b[0m \u001b[32m━━━━━━━━━━━━━━━━━━━━\u001b[0m\u001b[37m\u001b[0m \u001b[1m140s\u001b[0m 20s/step - accuracy: 1.0000 - loss: 18.5235 - val_accuracy: 1.0000 - val_loss: 18.2431\n",
            "Epoch 45/50\n",
            "\u001b[1m5/5\u001b[0m \u001b[32m━━━━━━━━━━━━━━━━━━━━\u001b[0m\u001b[37m\u001b[0m \u001b[1m102s\u001b[0m 25s/step - accuracy: 1.0000 - loss: 18.1306 - val_accuracy: 1.0000 - val_loss: 17.8808\n",
            "Epoch 46/50\n",
            "\u001b[1m5/5\u001b[0m \u001b[32m━━━━━━━━━━━━━━━━━━━━\u001b[0m\u001b[37m\u001b[0m \u001b[1m101s\u001b[0m 20s/step - accuracy: 1.0000 - loss: 17.8084 - val_accuracy: 1.0000 - val_loss: 17.5250\n",
            "Epoch 47/50\n",
            "\u001b[1m5/5\u001b[0m \u001b[32m━━━━━━━━━━━━━━━━━━━━\u001b[0m\u001b[37m\u001b[0m \u001b[1m143s\u001b[0m 20s/step - accuracy: 1.0000 - loss: 17.4539 - val_accuracy: 1.0000 - val_loss: 17.1756\n",
            "Epoch 48/50\n",
            "\u001b[1m5/5\u001b[0m \u001b[32m━━━━━━━━━━━━━━━━━━━━\u001b[0m\u001b[37m\u001b[0m \u001b[1m141s\u001b[0m 20s/step - accuracy: 1.0000 - loss: 17.1058 - val_accuracy: 1.0000 - val_loss: 16.8325\n",
            "Epoch 49/50\n",
            "\u001b[1m5/5\u001b[0m \u001b[32m━━━━━━━━━━━━━━━━━━━━\u001b[0m\u001b[37m\u001b[0m \u001b[1m101s\u001b[0m 25s/step - accuracy: 1.0000 - loss: 16.7279 - val_accuracy: 1.0000 - val_loss: 16.4956\n",
            "Epoch 50/50\n",
            "\u001b[1m5/5\u001b[0m \u001b[32m━━━━━━━━━━━━━━━━━━━━\u001b[0m\u001b[37m\u001b[0m \u001b[1m163s\u001b[0m 25s/step - accuracy: 1.0000 - loss: 16.4249 - val_accuracy: 1.0000 - val_loss: 16.1648\n",
            "VGG16 model training completed.\n"
          ]
        }
      ]
    },
    {
      "cell_type": "code",
      "source": [
        "# Train ResNet50 Model\n",
        "print(\"Training ResNet50 model:\")\n",
        "resnet50_history = resnet50_model.fit(\n",
        "    train_data,\n",
        "    validation_data=validation_data,\n",
        "    epochs=50,\n",
        "    callbacks=[early_stopping]\n",
        ")\n",
        "print(\"ResNet50 model training completed.\")"
      ],
      "metadata": {
        "colab": {
          "base_uri": "https://localhost:8080/"
        },
        "id": "sO6UIOhD6q3f",
        "outputId": "8e569a82-026a-4e96-c46b-e5de006f88c5"
      },
      "execution_count": 45,
      "outputs": [
        {
          "output_type": "stream",
          "name": "stdout",
          "text": [
            "Training ResNet50 model:\n",
            "Epoch 1/50\n",
            "\u001b[1m5/5\u001b[0m \u001b[32m━━━━━━━━━━━━━━━━━━━━\u001b[0m\u001b[37m\u001b[0m \u001b[1m48s\u001b[0m 7s/step - accuracy: 1.0000 - loss: 57.6103 - val_accuracy: 1.0000 - val_loss: 56.3985\n",
            "Epoch 2/50\n",
            "\u001b[1m5/5\u001b[0m \u001b[32m━━━━━━━━━━━━━━━━━━━━\u001b[0m\u001b[37m\u001b[0m \u001b[1m36s\u001b[0m 6s/step - accuracy: 1.0000 - loss: 56.0907 - val_accuracy: 1.0000 - val_loss: 54.8880\n",
            "Epoch 3/50\n",
            "\u001b[1m5/5\u001b[0m \u001b[32m━━━━━━━━━━━━━━━━━━━━\u001b[0m\u001b[37m\u001b[0m \u001b[1m34s\u001b[0m 6s/step - accuracy: 1.0000 - loss: 54.5331 - val_accuracy: 1.0000 - val_loss: 53.4108\n",
            "Epoch 4/50\n",
            "\u001b[1m5/5\u001b[0m \u001b[32m━━━━━━━━━━━━━━━━━━━━\u001b[0m\u001b[37m\u001b[0m \u001b[1m41s\u001b[0m 8s/step - accuracy: 1.0000 - loss: 52.9619 - val_accuracy: 1.0000 - val_loss: 51.9681\n",
            "Epoch 5/50\n",
            "\u001b[1m5/5\u001b[0m \u001b[32m━━━━━━━━━━━━━━━━━━━━\u001b[0m\u001b[37m\u001b[0m \u001b[1m32s\u001b[0m 6s/step - accuracy: 1.0000 - loss: 51.6811 - val_accuracy: 1.0000 - val_loss: 50.5607\n",
            "ResNet50 model training completed.\n"
          ]
        }
      ]
    },
    {
      "cell_type": "markdown",
      "source": [
        "# 6. Evaluate and Compare the Models"
      ],
      "metadata": {
        "id": "R32_kDfet5OL"
      }
    },
    {
      "cell_type": "code",
      "source": [
        "# Evaluate VGG16\n",
        "vgg16_val_loss, vgg16_val_accuracy = vgg16_model.evaluate(validation_data)\n",
        "print(f'VGG16 Validation Accuracy: {vgg16_val_accuracy:.2f}, Validation Loss: {vgg16_val_loss:.2f}')\n",
        "\n",
        "# Evaluate ResNet50\n",
        "resnet50_val_loss, resnet50_val_accuracy = resnet50_model.evaluate(validation_data)\n",
        "print(f'ResNet50 Validation Accuracy: {resnet50_val_accuracy:.2f}, Validation Loss: {resnet50_val_loss:.2f}')\n"
      ],
      "metadata": {
        "colab": {
          "base_uri": "https://localhost:8080/"
        },
        "id": "J2bOrebQt8Gg",
        "outputId": "334eba26-ced9-4fc6-aa1d-176498cd9943"
      },
      "execution_count": 46,
      "outputs": [
        {
          "output_type": "stream",
          "name": "stdout",
          "text": [
            "\u001b[1m1/1\u001b[0m \u001b[32m━━━━━━━━━━━━━━━━━━━━\u001b[0m\u001b[37m\u001b[0m \u001b[1m20s\u001b[0m 20s/step - accuracy: 1.0000 - loss: 16.1648\n",
            "VGG16 Validation Accuracy: 1.00, Validation Loss: 16.16\n",
            "\u001b[1m1/1\u001b[0m \u001b[32m━━━━━━━━━━━━━━━━━━━━\u001b[0m\u001b[37m\u001b[0m \u001b[1m6s\u001b[0m 6s/step - accuracy: 1.0000 - loss: 56.3985\n",
            "ResNet50 Validation Accuracy: 1.00, Validation Loss: 56.40\n"
          ]
        }
      ]
    },
    {
      "cell_type": "markdown",
      "source": [
        "# 7. Visualize Training and Validation Curves"
      ],
      "metadata": {
        "id": "NqKiEa_8yW-R"
      }
    },
    {
      "cell_type": "code",
      "source": [
        "# Plot accuracy and loss for VGG16 and ResNet50\n",
        "plt.figure(figsize=(12, 5))\n",
        "\n",
        "# VGG16 accuracy\n",
        "plt.subplot(1, 2, 1)\n",
        "plt.plot(vgg16_history.history['accuracy'], label='VGG16 Train Accuracy')\n",
        "plt.plot(vgg16_history.history['val_accuracy'], label='VGG16 Val Accuracy')\n",
        "plt.xlabel('Epochs')\n",
        "plt.ylabel('Accuracy')\n",
        "plt.legend()\n",
        "plt.title('VGG16 Accuracy')\n",
        "\n",
        "# ResNet50 accuracy\n",
        "plt.subplot(1, 2, 2)\n",
        "plt.plot(resnet50_history.history['accuracy'], label='ResNet50 Train Accuracy')\n",
        "plt.plot(resnet50_history.history['val_accuracy'], label='ResNet50 Val Accuracy')\n",
        "plt.xlabel('Epochs')\n",
        "plt.ylabel('Accuracy')\n",
        "plt.legend()\n",
        "plt.title('ResNet50 Accuracy')\n",
        "\n",
        "plt.show()\n"
      ],
      "metadata": {
        "colab": {
          "base_uri": "https://localhost:8080/",
          "height": 357
        },
        "id": "KKZFsf5ZyUet",
        "outputId": "e14a43fc-0dbe-4479-c43e-5233395064c6"
      },
      "execution_count": 47,
      "outputs": [
        {
          "output_type": "display_data",
          "data": {
            "text/plain": [
              "<Figure size 1200x500 with 2 Axes>"
            ],
            "image/png": "[encoded data removed]"
          },
          "metadata": {}
        }
      ]
    }
  ]
}